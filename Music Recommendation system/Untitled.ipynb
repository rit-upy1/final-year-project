{
 "cells": [
  {
   "cell_type": "code",
   "execution_count": 21,
   "metadata": {},
   "outputs": [],
   "source": [
    "import os\n",
    "import librosa\n",
    "import math\n",
    "import json"
   ]
  },
  {
   "cell_type": "code",
   "execution_count": 12,
   "metadata": {},
   "outputs": [],
   "source": [
    "SAMPLE_RATE = 22050 \n",
    "#standard value for music processing\n",
    "DURATION = 30\n",
    "#duration of the song in dataset. With gtzan dataset is always 30 for each song\n"
   ]
  },
  {
   "cell_type": "code",
   "execution_count": 24,
   "metadata": {},
   "outputs": [],
   "source": [
    "def save_mfcc(dataset_path,json_path,number_of_mfcc = 13, n_fft = 2048,hop_length = 512,num_segments = 5):\n",
    "    \"\"\"\n",
    "        dataset_path   : The path of the dataset,\n",
    "        json_path      : The location where all the data processed in this function will stored such as genres,labels,mfcc values\n",
    "        number_of_mfcc : The segments in mfcc graph,\n",
    "        n_fft          : The number of samples taken (in say the conversion of analog to digital stuff),\n",
    "        hop_length     : The number of units the function should move in calculating the mfcc,\n",
    "        n_segments     : Chopping up a track in multiple segments so that we have more input data (100 isn't enough)\n",
    "    \"\"\"\n",
    "    \n",
    "    data = {\n",
    "        \"genres\" : [], #inputs \n",
    "        \"mfcc\"   : [],\n",
    "        \"labels\" : [], #outputs\n",
    "        \n",
    "    }\n",
    "    \n",
    "    for i,(root,dirs,files) in enumerate(os.walk(dataset_path)):\n",
    "        \"\"\"\n",
    "            i    : The current level os.walk is in.\n",
    "            Root : Path to the folder we are currently in,\n",
    "            dirs : Directories present in that root aka sub-folders\n",
    "            files : files in that root\n",
    "            \n",
    "            os.walk does it in the top-down manner. \n",
    "        \"\"\"\n",
    "        \n",
    "        #ensure that we are not at the root level\n",
    "        if root not in dataset_path:\n",
    "            \n",
    "            #saving the genre in data\n",
    "            genre = root.split(\"/\")[-1]\n",
    "            data['genres'].append(genre)\n",
    "            print(f'Genre{genre}')\n",
    "            \n",
    "            for f in files:\n",
    "                #f only gives the filename such as Never gonna give up.wav\n",
    "                file_path = os.path.join(root,f)\n",
    "                signal,sr = librosa.load(file_path,sr = SAMPLE_RATE)\n",
    "                \n",
    "                number_of_samples_per_track = SAMPLE_RATE * DURATION\n",
    "                samples_per_segment = int(number_of_samples_per_track / num_segments)\n",
    "                expected_number_of_mfcc_vectors_per_segment = math.ceil(number_of_samples_per_track/hop_length)\n",
    "                \n",
    "                #processing segments and extracting mfcc data\n",
    "                for segment in range(num_segments):\n",
    "                    start_sample = samples_per_segment * segment\n",
    "                    finish_sample = start_sample + samples_per_segment\n",
    "                    \n",
    "                    mfcc = librosa.feature.mfcc(signal[start_sample:finish_sample],\n",
    "                                                sr = sr,\n",
    "                                                n_fft = n_fft,\n",
    "                                                n_mfcc = number_of_mfcc,\n",
    "                                                hop_length = hop_length)\n",
    "                    mfcc = mfcc.T\n",
    "                    \n",
    "                    if len(mfcc) == expected_number_of_mfcc_vectors_per_segment:\n",
    "                        data['mfcc'].append(mfcc.tolist())\n",
    "                        data['labels'].append(i - 1)\n",
    "                        #why i - 1 because i = 0 is going to be the root folder which we don't want\n",
    "                        print(\"{}, segment:{}\".format(file_path, d+1))\n",
    "    \n",
    "    with open(json_path,'w') as fp:\n",
    "        json.dump(data,fp,indent = 4)\n"
   ]
  },
  {
   "cell_type": "code",
   "execution_count": 25,
   "metadata": {},
   "outputs": [
    {
     "name": "stdout",
     "output_type": "stream",
     "text": [
      "Genrerock\n",
      "Genrereggae\n",
      "Genrecountry\n",
      "Genrepop\n",
      "Genredisco\n",
      "Genrejazz\n"
     ]
    },
    {
     "ename": "KeyboardInterrupt",
     "evalue": "",
     "output_type": "error",
     "traceback": [
      "\u001b[0;31m---------------------------------------------------------------------------\u001b[0m",
      "\u001b[0;31mKeyboardInterrupt\u001b[0m                         Traceback (most recent call last)",
      "\u001b[0;32m<ipython-input-25-7dc4f11f6643>\u001b[0m in \u001b[0;36m<module>\u001b[0;34m\u001b[0m\n\u001b[0;32m----> 1\u001b[0;31m save_mfcc('/home/ritvik/Final Year Project/Testing/genres',\n\u001b[0m\u001b[1;32m      2\u001b[0m           '/home/ritvik/Final Year Project/Testing/data.json')\n",
      "\u001b[0;32m<ipython-input-24-a0ea7e31038a>\u001b[0m in \u001b[0;36msave_mfcc\u001b[0;34m(dataset_path, json_path, number_of_mfcc, n_fft, hop_length, num_segments)\u001b[0m\n\u001b[1;32m     48\u001b[0m                     \u001b[0mfinish_sample\u001b[0m \u001b[0;34m=\u001b[0m \u001b[0mstart_sample\u001b[0m \u001b[0;34m+\u001b[0m \u001b[0msamples_per_segment\u001b[0m\u001b[0;34m\u001b[0m\u001b[0;34m\u001b[0m\u001b[0m\n\u001b[1;32m     49\u001b[0m \u001b[0;34m\u001b[0m\u001b[0m\n\u001b[0;32m---> 50\u001b[0;31m                     mfcc = librosa.feature.mfcc(signal[start_sample:finish_sample],\n\u001b[0m\u001b[1;32m     51\u001b[0m                                                 \u001b[0msr\u001b[0m \u001b[0;34m=\u001b[0m \u001b[0msr\u001b[0m\u001b[0;34m,\u001b[0m\u001b[0;34m\u001b[0m\u001b[0;34m\u001b[0m\u001b[0m\n\u001b[1;32m     52\u001b[0m                                                 \u001b[0mn_fft\u001b[0m \u001b[0;34m=\u001b[0m \u001b[0mn_fft\u001b[0m\u001b[0;34m,\u001b[0m\u001b[0;34m\u001b[0m\u001b[0;34m\u001b[0m\u001b[0m\n",
      "\u001b[0;32m/usr/local/lib/python3.8/dist-packages/librosa/feature/spectral.py\u001b[0m in \u001b[0;36mmfcc\u001b[0;34m(y, sr, S, n_mfcc, dct_type, norm, lifter, **kwargs)\u001b[0m\n\u001b[1;32m   1850\u001b[0m \u001b[0;34m\u001b[0m\u001b[0m\n\u001b[1;32m   1851\u001b[0m     \u001b[0;32mif\u001b[0m \u001b[0mS\u001b[0m \u001b[0;32mis\u001b[0m \u001b[0;32mNone\u001b[0m\u001b[0;34m:\u001b[0m\u001b[0;34m\u001b[0m\u001b[0;34m\u001b[0m\u001b[0m\n\u001b[0;32m-> 1852\u001b[0;31m         \u001b[0mS\u001b[0m \u001b[0;34m=\u001b[0m \u001b[0mpower_to_db\u001b[0m\u001b[0;34m(\u001b[0m\u001b[0mmelspectrogram\u001b[0m\u001b[0;34m(\u001b[0m\u001b[0my\u001b[0m\u001b[0;34m=\u001b[0m\u001b[0my\u001b[0m\u001b[0;34m,\u001b[0m \u001b[0msr\u001b[0m\u001b[0;34m=\u001b[0m\u001b[0msr\u001b[0m\u001b[0;34m,\u001b[0m \u001b[0;34m**\u001b[0m\u001b[0mkwargs\u001b[0m\u001b[0;34m)\u001b[0m\u001b[0;34m)\u001b[0m\u001b[0;34m\u001b[0m\u001b[0;34m\u001b[0m\u001b[0m\n\u001b[0m\u001b[1;32m   1853\u001b[0m \u001b[0;34m\u001b[0m\u001b[0m\n\u001b[1;32m   1854\u001b[0m     \u001b[0mM\u001b[0m \u001b[0;34m=\u001b[0m \u001b[0mscipy\u001b[0m\u001b[0;34m.\u001b[0m\u001b[0mfftpack\u001b[0m\u001b[0;34m.\u001b[0m\u001b[0mdct\u001b[0m\u001b[0;34m(\u001b[0m\u001b[0mS\u001b[0m\u001b[0;34m,\u001b[0m \u001b[0maxis\u001b[0m\u001b[0;34m=\u001b[0m\u001b[0;36m0\u001b[0m\u001b[0;34m,\u001b[0m \u001b[0mtype\u001b[0m\u001b[0;34m=\u001b[0m\u001b[0mdct_type\u001b[0m\u001b[0;34m,\u001b[0m \u001b[0mnorm\u001b[0m\u001b[0;34m=\u001b[0m\u001b[0mnorm\u001b[0m\u001b[0;34m)\u001b[0m\u001b[0;34m[\u001b[0m\u001b[0;34m:\u001b[0m\u001b[0mn_mfcc\u001b[0m\u001b[0;34m]\u001b[0m\u001b[0;34m\u001b[0m\u001b[0;34m\u001b[0m\u001b[0m\n",
      "\u001b[0;32m/usr/local/lib/python3.8/dist-packages/librosa/feature/spectral.py\u001b[0m in \u001b[0;36mmelspectrogram\u001b[0;34m(y, sr, S, n_fft, hop_length, win_length, window, center, pad_mode, power, **kwargs)\u001b[0m\n\u001b[1;32m   2009\u001b[0m     \u001b[0mmel_basis\u001b[0m \u001b[0;34m=\u001b[0m \u001b[0mfilters\u001b[0m\u001b[0;34m.\u001b[0m\u001b[0mmel\u001b[0m\u001b[0;34m(\u001b[0m\u001b[0msr\u001b[0m\u001b[0;34m,\u001b[0m \u001b[0mn_fft\u001b[0m\u001b[0;34m,\u001b[0m \u001b[0;34m**\u001b[0m\u001b[0mkwargs\u001b[0m\u001b[0;34m)\u001b[0m\u001b[0;34m\u001b[0m\u001b[0;34m\u001b[0m\u001b[0m\n\u001b[1;32m   2010\u001b[0m \u001b[0;34m\u001b[0m\u001b[0m\n\u001b[0;32m-> 2011\u001b[0;31m     \u001b[0;32mreturn\u001b[0m \u001b[0mnp\u001b[0m\u001b[0;34m.\u001b[0m\u001b[0mdot\u001b[0m\u001b[0;34m(\u001b[0m\u001b[0mmel_basis\u001b[0m\u001b[0;34m,\u001b[0m \u001b[0mS\u001b[0m\u001b[0;34m)\u001b[0m\u001b[0;34m\u001b[0m\u001b[0;34m\u001b[0m\u001b[0m\n\u001b[0m",
      "\u001b[0;32m<__array_function__ internals>\u001b[0m in \u001b[0;36mdot\u001b[0;34m(*args, **kwargs)\u001b[0m\n",
      "\u001b[0;31mKeyboardInterrupt\u001b[0m: "
     ]
    }
   ],
   "source": [
    "save_mfcc('/home/ritvik/Final Year Project/Testing/genres',\n",
    "          '/home/ritvik/Final Year Project/Testing/data.json')"
   ]
  },
  {
   "cell_type": "code",
   "execution_count": null,
   "metadata": {},
   "outputs": [],
   "source": []
  }
 ],
 "metadata": {
  "kernelspec": {
   "display_name": "Python 3",
   "language": "python",
   "name": "python3"
  },
  "language_info": {
   "codemirror_mode": {
    "name": "ipython",
    "version": 3
   },
   "file_extension": ".py",
   "mimetype": "text/x-python",
   "name": "python",
   "nbconvert_exporter": "python",
   "pygments_lexer": "ipython3",
   "version": "3.8.5"
  }
 },
 "nbformat": 4,
 "nbformat_minor": 4
}
