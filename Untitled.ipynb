{
 "cells": [
  {
   "cell_type": "code",
   "execution_count": 1,
   "id": "f0dd0e66",
   "metadata": {},
   "outputs": [],
   "source": [
    "from youtubesearchpython import VideosSearch"
   ]
  },
  {
   "cell_type": "code",
   "execution_count": 14,
   "id": "f63a5a72",
   "metadata": {},
   "outputs": [],
   "source": [
    "videosSearch = VideosSearch('Super Smash Bros ultimate trailer', limit = 2)"
   ]
  },
  {
   "cell_type": "code",
   "execution_count": 11,
   "id": "9e36fb2f",
   "metadata": {},
   "outputs": [
    {
     "data": {
      "text/plain": [
       "['__class__',\n",
       " '__delattr__',\n",
       " '__dict__',\n",
       " '__dir__',\n",
       " '__doc__',\n",
       " '__eq__',\n",
       " '__format__',\n",
       " '__ge__',\n",
       " '__getattribute__',\n",
       " '__gt__',\n",
       " '__hash__',\n",
       " '__init__',\n",
       " '__init_subclass__',\n",
       " '__le__',\n",
       " '__lt__',\n",
       " '__module__',\n",
       " '__ne__',\n",
       " '__new__',\n",
       " '__reduce__',\n",
       " '__reduce_ex__',\n",
       " '__repr__',\n",
       " '__setattr__',\n",
       " '__sizeof__',\n",
       " '__str__',\n",
       " '__subclasshook__',\n",
       " '__weakref__',\n",
       " '_getChannelComponent',\n",
       " '_getComponents',\n",
       " '_getPlaylistComponent',\n",
       " '_getShelfComponent',\n",
       " '_getValue',\n",
       " '_getVideoComponent',\n",
       " '_makeRequest',\n",
       " '_parseSource',\n",
       " 'continuationKey',\n",
       " 'language',\n",
       " 'limit',\n",
       " 'next',\n",
       " 'query',\n",
       " 'region',\n",
       " 'response',\n",
       " 'responseSource',\n",
       " 'result',\n",
       " 'resultComponents',\n",
       " 'searchMode',\n",
       " 'searchPreferences']"
      ]
     },
     "execution_count": 11,
     "metadata": {},
     "output_type": "execute_result"
    }
   ],
   "source": [
    "dir(videosSearch)\n"
   ]
  },
  {
   "cell_type": "code",
   "execution_count": 16,
   "id": "3a8196bb",
   "metadata": {},
   "outputs": [
    {
     "data": {
      "text/plain": [
       "{'result': [{'type': 'video',\n",
       "   'id': 'WShCN-AYHqA',\n",
       "   'title': 'Super Smash Bros. Ultimate - World of Light - Nintendo Switch',\n",
       "   'publishedTime': '2 years ago',\n",
       "   'duration': '4:19',\n",
       "   'viewCount': {'text': '14,240,520 views', 'short': '14M views'},\n",
       "   'thumbnails': [{'url': 'https://i.ytimg.com/vi/WShCN-AYHqA/hq720.jpg?sqp=-oaymwEcCOgCEMoBSFXyq4qpAw4IARUAAIhCGAFwAcABBg==&rs=AOn4CLCTEYrQ40W2E3CV5wLPMNnS3oQiqw',\n",
       "     'width': 360,\n",
       "     'height': 202},\n",
       "    {'url': 'https://i.ytimg.com/vi/WShCN-AYHqA/hq720.jpg?sqp=-oaymwEcCNAFEJQDSFXyq4qpAw4IARUAAIhCGAFwAcABBg==&rs=AOn4CLDjzPLTmkI3lwn1YX2OeivFBVMb0A',\n",
       "     'width': 720,\n",
       "     'height': 404}],\n",
       "   'richThumbnail': {'url': 'https://i.ytimg.com/an_webp/WShCN-AYHqA/mqdefault_6s.webp?du=3000&sqp=CNDvvoUG&rs=AOn4CLBepKjcAFEcYRDS2-e8e04U8QINLA',\n",
       "    'width': 320,\n",
       "    'height': 180},\n",
       "   'descriptionSnippet': [{'text': 'https://www.'},\n",
       "    {'text': 'smashbros', 'bold': True},\n",
       "    {'text': '.com/'}],\n",
       "   'channel': {'name': 'Super Smash Bros.',\n",
       "    'id': 'UCwVVpHQ2Cs9iGJfpdFngePQ',\n",
       "    'thumbnails': [{'url': 'https://yt3.ggpht.com/ytc/AAUvwngU9Yck3EW1vcPbYuUSGa8bVJFDnfRlXUSg8k2h=s68-c-k-c0x00ffffff-no-rj',\n",
       "      'width': 68,\n",
       "      'height': 68}],\n",
       "    'link': 'https://www.youtube.com/channel/UCwVVpHQ2Cs9iGJfpdFngePQ'},\n",
       "   'accessibility': {'title': 'Super Smash Bros. Ultimate - World of Light - Nintendo Switch by Super Smash Bros. 2 years ago 4 minutes, 19 seconds 14,240,520 views',\n",
       "    'duration': '4 minutes, 19 seconds'},\n",
       "   'link': 'https://www.youtube.com/watch?v=WShCN-AYHqA',\n",
       "   'shelfTitle': None},\n",
       "  {'type': 'video',\n",
       "   'id': 'WLu7e8RZoYc',\n",
       "   'title': 'Super Smash Bros. Ultimate - Overview Trailer feat. The Announcer - Nintendo Switch',\n",
       "   'publishedTime': '2 years ago',\n",
       "   'duration': '7:21',\n",
       "   'viewCount': {'text': '5,370,209 views', 'short': '5.3M views'},\n",
       "   'thumbnails': [{'url': 'https://i.ytimg.com/vi/WLu7e8RZoYc/hq720.jpg?sqp=-oaymwEcCOgCEMoBSFXyq4qpAw4IARUAAIhCGAFwAcABBg==&rs=AOn4CLD3Lmw54dCTe6QgRL-U57ujZNd5FA',\n",
       "     'width': 360,\n",
       "     'height': 202},\n",
       "    {'url': 'https://i.ytimg.com/vi/WLu7e8RZoYc/hq720.jpg?sqp=-oaymwEcCNAFEJQDSFXyq4qpAw4IARUAAIhCGAFwAcABBg==&rs=AOn4CLBCaDuqUo6sH1IUnQ9Jm-wSr79B6w',\n",
       "     'width': 720,\n",
       "     'height': 404}],\n",
       "   'richThumbnail': {'url': 'https://i.ytimg.com/an_webp/WLu7e8RZoYc/mqdefault_6s.webp?du=3000&sqp=CP-Av4UG&rs=AOn4CLChXw4-fBNFul6rZakj_d8Ae0CUtw',\n",
       "    'width': 320,\n",
       "    'height': 180},\n",
       "   'descriptionSnippet': [{'text': 'Join us for a whirlwind overview of '},\n",
       "    {'text': 'Super Smash Bros', 'bold': True},\n",
       "    {'text': '. '},\n",
       "    {'text': 'Ultimate', 'bold': True},\n",
       "    {'text': ' for Nintendo Switch, hosted by none other than…The Announcer?'}],\n",
       "   'channel': {'name': 'Nintendo',\n",
       "    'id': 'UCGIY_O-8vW4rfX98KlMkvRg',\n",
       "    'thumbnails': [{'url': 'https://yt3.ggpht.com/ytc/AAUvwngqW2jmb6W_dz29udTs-Lvc8nMw50taRmhAxEBuQQ=s68-c-k-c0x00ffffff-no-rj',\n",
       "      'width': 68,\n",
       "      'height': 68}],\n",
       "    'link': 'https://www.youtube.com/channel/UCGIY_O-8vW4rfX98KlMkvRg'},\n",
       "   'accessibility': {'title': 'Super Smash Bros. Ultimate - Overview Trailer feat. The Announcer - Nintendo Switch by Nintendo 2 years ago 7 minutes, 21 seconds 5,370,209 views',\n",
       "    'duration': '7 minutes, 21 seconds'},\n",
       "   'link': 'https://www.youtube.com/watch?v=WLu7e8RZoYc',\n",
       "   'shelfTitle': None}]}"
      ]
     },
     "execution_count": 16,
     "metadata": {},
     "output_type": "execute_result"
    }
   ],
   "source": [
    "result = videosSearch.result()"
   ]
  },
  {
   "cell_type": "code",
   "execution_count": 17,
   "id": "87686a1a",
   "metadata": {},
   "outputs": [],
   "source": [
    "result = videosSearch.result()"
   ]
  },
  {
   "cell_type": "code",
   "execution_count": 18,
   "id": "6115a2b0",
   "metadata": {},
   "outputs": [
    {
     "data": {
      "text/plain": [
       "{'result': [{'type': 'video',\n",
       "   'id': 'WShCN-AYHqA',\n",
       "   'title': 'Super Smash Bros. Ultimate - World of Light - Nintendo Switch',\n",
       "   'publishedTime': '2 years ago',\n",
       "   'duration': '4:19',\n",
       "   'viewCount': {'text': '14,240,520 views', 'short': '14M views'},\n",
       "   'thumbnails': [{'url': 'https://i.ytimg.com/vi/WShCN-AYHqA/hq720.jpg?sqp=-oaymwEcCOgCEMoBSFXyq4qpAw4IARUAAIhCGAFwAcABBg==&rs=AOn4CLCTEYrQ40W2E3CV5wLPMNnS3oQiqw',\n",
       "     'width': 360,\n",
       "     'height': 202},\n",
       "    {'url': 'https://i.ytimg.com/vi/WShCN-AYHqA/hq720.jpg?sqp=-oaymwEcCNAFEJQDSFXyq4qpAw4IARUAAIhCGAFwAcABBg==&rs=AOn4CLDjzPLTmkI3lwn1YX2OeivFBVMb0A',\n",
       "     'width': 720,\n",
       "     'height': 404}],\n",
       "   'richThumbnail': {'url': 'https://i.ytimg.com/an_webp/WShCN-AYHqA/mqdefault_6s.webp?du=3000&sqp=CNDvvoUG&rs=AOn4CLBepKjcAFEcYRDS2-e8e04U8QINLA',\n",
       "    'width': 320,\n",
       "    'height': 180},\n",
       "   'descriptionSnippet': [{'text': 'https://www.'},\n",
       "    {'text': 'smashbros', 'bold': True},\n",
       "    {'text': '.com/'}],\n",
       "   'channel': {'name': 'Super Smash Bros.',\n",
       "    'id': 'UCwVVpHQ2Cs9iGJfpdFngePQ',\n",
       "    'thumbnails': [{'url': 'https://yt3.ggpht.com/ytc/AAUvwngU9Yck3EW1vcPbYuUSGa8bVJFDnfRlXUSg8k2h=s68-c-k-c0x00ffffff-no-rj',\n",
       "      'width': 68,\n",
       "      'height': 68}],\n",
       "    'link': 'https://www.youtube.com/channel/UCwVVpHQ2Cs9iGJfpdFngePQ'},\n",
       "   'accessibility': {'title': 'Super Smash Bros. Ultimate - World of Light - Nintendo Switch by Super Smash Bros. 2 years ago 4 minutes, 19 seconds 14,240,520 views',\n",
       "    'duration': '4 minutes, 19 seconds'},\n",
       "   'link': 'https://www.youtube.com/watch?v=WShCN-AYHqA',\n",
       "   'shelfTitle': None},\n",
       "  {'type': 'video',\n",
       "   'id': 'WLu7e8RZoYc',\n",
       "   'title': 'Super Smash Bros. Ultimate - Overview Trailer feat. The Announcer - Nintendo Switch',\n",
       "   'publishedTime': '2 years ago',\n",
       "   'duration': '7:21',\n",
       "   'viewCount': {'text': '5,370,209 views', 'short': '5.3M views'},\n",
       "   'thumbnails': [{'url': 'https://i.ytimg.com/vi/WLu7e8RZoYc/hq720.jpg?sqp=-oaymwEcCOgCEMoBSFXyq4qpAw4IARUAAIhCGAFwAcABBg==&rs=AOn4CLD3Lmw54dCTe6QgRL-U57ujZNd5FA',\n",
       "     'width': 360,\n",
       "     'height': 202},\n",
       "    {'url': 'https://i.ytimg.com/vi/WLu7e8RZoYc/hq720.jpg?sqp=-oaymwEcCNAFEJQDSFXyq4qpAw4IARUAAIhCGAFwAcABBg==&rs=AOn4CLBCaDuqUo6sH1IUnQ9Jm-wSr79B6w',\n",
       "     'width': 720,\n",
       "     'height': 404}],\n",
       "   'richThumbnail': {'url': 'https://i.ytimg.com/an_webp/WLu7e8RZoYc/mqdefault_6s.webp?du=3000&sqp=CP-Av4UG&rs=AOn4CLChXw4-fBNFul6rZakj_d8Ae0CUtw',\n",
       "    'width': 320,\n",
       "    'height': 180},\n",
       "   'descriptionSnippet': [{'text': 'Join us for a whirlwind overview of '},\n",
       "    {'text': 'Super Smash Bros', 'bold': True},\n",
       "    {'text': '. '},\n",
       "    {'text': 'Ultimate', 'bold': True},\n",
       "    {'text': ' for Nintendo Switch, hosted by none other than…The Announcer?'}],\n",
       "   'channel': {'name': 'Nintendo',\n",
       "    'id': 'UCGIY_O-8vW4rfX98KlMkvRg',\n",
       "    'thumbnails': [{'url': 'https://yt3.ggpht.com/ytc/AAUvwngqW2jmb6W_dz29udTs-Lvc8nMw50taRmhAxEBuQQ=s68-c-k-c0x00ffffff-no-rj',\n",
       "      'width': 68,\n",
       "      'height': 68}],\n",
       "    'link': 'https://www.youtube.com/channel/UCGIY_O-8vW4rfX98KlMkvRg'},\n",
       "   'accessibility': {'title': 'Super Smash Bros. Ultimate - Overview Trailer feat. The Announcer - Nintendo Switch by Nintendo 2 years ago 7 minutes, 21 seconds 5,370,209 views',\n",
       "    'duration': '7 minutes, 21 seconds'},\n",
       "   'link': 'https://www.youtube.com/watch?v=WLu7e8RZoYc',\n",
       "   'shelfTitle': None}]}"
      ]
     },
     "execution_count": 18,
     "metadata": {},
     "output_type": "execute_result"
    }
   ],
   "source": [
    "result"
   ]
  },
  {
   "cell_type": "code",
   "execution_count": null,
   "id": "18c4e6c0",
   "metadata": {},
   "outputs": [],
   "source": []
  }
 ],
 "metadata": {
  "kernelspec": {
   "display_name": "Python 3",
   "language": "python",
   "name": "python3"
  },
  "language_info": {
   "codemirror_mode": {
    "name": "ipython",
    "version": 3
   },
   "file_extension": ".py",
   "mimetype": "text/x-python",
   "name": "python",
   "nbconvert_exporter": "python",
   "pygments_lexer": "ipython3",
   "version": "3.8.5"
  }
 },
 "nbformat": 4,
 "nbformat_minor": 5
}
